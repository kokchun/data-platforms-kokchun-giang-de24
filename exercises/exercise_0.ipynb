{
 "cells": [
  {
   "cell_type": "markdown",
   "metadata": {},
   "source": [
    "# Solving exercises"
   ]
  },
  {
   "cell_type": "markdown",
   "metadata": {},
   "source": [
    "## 0. user input for ETL parameters"
   ]
  },
  {
   "cell_type": "code",
   "execution_count": 1,
   "metadata": {},
   "outputs": [
    {
     "name": "stdout",
     "output_type": "stream",
     "text": [
      "source: /Users/aigineer/Documents/github/data-platforms-kokchun-giang-de24/exercises/input_data.csv\n",
      "destination_path: /Users/aigineer/Documents/github/data-platforms-kokchun-giang-de24/exercises/output_data.csv\n"
     ]
    }
   ],
   "source": [
    "source_path = input(\"Enter the source path\")\n",
    "destination_path = input(\"Enter your destination path\")\n",
    "\n",
    "# /Users/aigineer/Documents/github/data-platforms-kokchun-giang-de24/exercises/input_data.csv\n",
    "# /Users/aigineer/Documents/github/data-platforms-kokchun-giang-de24/exercises/output_data.csv\n",
    "\n",
    "print(f\"source: {source_path}\")\n",
    "print(f\"destination_path: {destination_path}\")\n"
   ]
  },
  {
   "cell_type": "markdown",
   "metadata": {},
   "source": [
    "## 1. schema validation\n",
    "\n",
    "In order to maintain data quality, consistency and reliability, a system needs to validate that it conforms to certain predefined structure or format. This is called schema validation and you'll practice this in the following exercises."
   ]
  },
  {
   "cell_type": "markdown",
   "metadata": {},
   "source": [
    "**a)**\n",
    "\n",
    "Create a dictionary that look like this\n",
    "\n",
    "| Key       | Value |\n",
    "| --------- | ----- |\n",
    "| id        | 101   |\n",
    "| name      | Erika |\n",
    "| is_active | True  |\n",
    "| age       | 45    |"
   ]
  },
  {
   "cell_type": "code",
   "execution_count": 3,
   "metadata": {},
   "outputs": [
    {
     "data": {
      "text/plain": [
       "({'id': 101, 'name': 'Erika', 'is_active': True, 'age': 45}, dict)"
      ]
     },
     "execution_count": 3,
     "metadata": {},
     "output_type": "execute_result"
    }
   ],
   "source": [
    "record = dict(id=101, name=\"Erika\", is_active=True, age=45)\n",
    "record, type(record)"
   ]
  },
  {
   "cell_type": "markdown",
   "metadata": {},
   "source": [
    "**b)**\n",
    "\n",
    "Validate that the id is integer, name is string, is_active is boolean and age is integer. It should return true if valid and false if not valid."
   ]
  },
  {
   "cell_type": "code",
   "execution_count": 5,
   "metadata": {},
   "outputs": [
    {
     "data": {
      "text/plain": [
       "dict_keys(['id', 'name', 'is_active', 'age'])"
      ]
     },
     "execution_count": 5,
     "metadata": {},
     "output_type": "execute_result"
    }
   ],
   "source": [
    "schema = {\"id\": int, \"name\": str, \"is_active\": bool, \"age\": int}\n",
    "schema.keys()"
   ]
  },
  {
   "cell_type": "code",
   "execution_count": 8,
   "metadata": {},
   "outputs": [
    {
     "data": {
      "text/plain": [
       "(101, int, True, bool)"
      ]
     },
     "execution_count": 8,
     "metadata": {},
     "output_type": "execute_result"
    }
   ],
   "source": [
    "record[\"id\"] ,schema[\"id\"], record[\"is_active\"], schema[\"is_active\"]"
   ]
  },
  {
   "cell_type": "code",
   "execution_count": 12,
   "metadata": {},
   "outputs": [
    {
     "data": {
      "text/plain": [
       "(True, False)"
      ]
     },
     "execution_count": 12,
     "metadata": {},
     "output_type": "execute_result"
    }
   ],
   "source": [
    "type(record[\"id\"]) == schema[\"id\"], type(record[\"id\"]) == schema[\"is_active\"]"
   ]
  },
  {
   "cell_type": "code",
   "execution_count": 15,
   "metadata": {},
   "outputs": [
    {
     "data": {
      "text/plain": [
       "False"
      ]
     },
     "execution_count": 15,
     "metadata": {},
     "output_type": "execute_result"
    }
   ],
   "source": [
    "isinstance(5, str)"
   ]
  },
  {
   "cell_type": "markdown",
   "metadata": {},
   "source": [
    "**solution with for statement**"
   ]
  },
  {
   "cell_type": "code",
   "execution_count": 25,
   "metadata": {},
   "outputs": [
    {
     "data": {
      "text/plain": [
       "True"
      ]
     },
     "execution_count": 25,
     "metadata": {},
     "output_type": "execute_result"
    }
   ],
   "source": [
    "validation_list = []\n",
    "for key, data_type in schema.items():\n",
    "    # print(record[key], data_type )\n",
    "\n",
    "    validation_list.append(isinstance(record[key], data_type))\n",
    "\n",
    "all(validation_list)"
   ]
  },
  {
   "cell_type": "code",
   "execution_count": 27,
   "metadata": {},
   "outputs": [
    {
     "data": {
      "text/plain": [
       "(False, True)"
      ]
     },
     "execution_count": 27,
     "metadata": {},
     "output_type": "execute_result"
    }
   ],
   "source": [
    "all([True, False]), any([True, False])"
   ]
  },
  {
   "cell_type": "markdown",
   "metadata": {},
   "source": [
    "**alternative with list comprehension**"
   ]
  },
  {
   "cell_type": "code",
   "execution_count": 29,
   "metadata": {},
   "outputs": [
    {
     "data": {
      "text/plain": [
       "True"
      ]
     },
     "execution_count": 29,
     "metadata": {},
     "output_type": "execute_result"
    }
   ],
   "source": [
    "all([isinstance(record[key], data_type) for key, data_type in schema.items()])"
   ]
  },
  {
   "cell_type": "markdown",
   "metadata": {},
   "source": [
    "c-e for user to do "
   ]
  },
  {
   "cell_type": "markdown",
   "metadata": {},
   "source": [
    "## 2. Data quality check"
   ]
  },
  {
   "cell_type": "code",
   "execution_count": 34,
   "metadata": {},
   "outputs": [
    {
     "data": {
      "text/plain": [
       "[0, 1, 2, 3, 4, 5, 6, 7, 8, 9]"
      ]
     },
     "execution_count": 34,
     "metadata": {},
     "output_type": "execute_result"
    }
   ],
   "source": [
    "example_list = list(range(10))\n",
    "example_list_none = list(range(9)) + [None]\n",
    "example_list_large = list(range(2910))\n",
    "example_list"
   ]
  },
  {
   "cell_type": "code",
   "execution_count": 35,
   "metadata": {},
   "outputs": [
    {
     "data": {
      "text/plain": [
       "[0, 1, 2, 3, 4, 5, 6, 7, 8, None]"
      ]
     },
     "execution_count": 35,
     "metadata": {},
     "output_type": "execute_result"
    }
   ],
   "source": [
    "example_list_none"
   ]
  },
  {
   "cell_type": "code",
   "execution_count": 38,
   "metadata": {},
   "outputs": [
    {
     "data": {
      "text/plain": [
       "True"
      ]
     },
     "execution_count": 38,
     "metadata": {},
     "output_type": "execute_result"
    }
   ],
   "source": [
    "len(example_list) == 10"
   ]
  },
  {
   "cell_type": "code",
   "execution_count": 40,
   "metadata": {},
   "outputs": [
    {
     "data": {
      "text/plain": [
       "(False, True)"
      ]
     },
     "execution_count": 40,
     "metadata": {},
     "output_type": "execute_result"
    }
   ],
   "source": [
    "None in example_list, None in example_list_none"
   ]
  },
  {
   "cell_type": "code",
   "execution_count": 44,
   "metadata": {},
   "outputs": [
    {
     "name": "stdout",
     "output_type": "stream",
     "text": [
      "woho\n"
     ]
    }
   ],
   "source": [
    "# copying code - don't repeat yourself - DRY \n",
    "if len(example_list) == 10 and None not in example_list:\n",
    "    print(\"woho\")\n",
    "\n",
    "if len(example_list_none) == 10 and None not in example_list_none:\n",
    "    print(\"woho\")\n",
    "\n",
    "if len(example_list_large) == 10 and None not in example_list_large:\n",
    "    print(\"woho\")"
   ]
  },
  {
   "cell_type": "code",
   "execution_count": 52,
   "metadata": {},
   "outputs": [
    {
     "name": "stdout",
     "output_type": "stream",
     "text": [
      "\n",
      "            Your list must have 10 elements and not contain None.\n",
      "            Length of your list length was 10. None in list: True\n",
      "                         \n"
     ]
    }
   ],
   "source": [
    "def quality_check(list_):\n",
    "    if len(list_) != 10 or None in list_:\n",
    "        raise ValueError(\n",
    "            f\"\"\"\n",
    "            Your list must have 10 elements and not contain None.\n",
    "            Length of your list length was {len(list_)}. None in list: {None in list_}\n",
    "                         \"\"\"\n",
    "        )\n",
    "    print(\"Your list contains no Nones and have length 10\")\n",
    "\n",
    "try:\n",
    "    quality_check(example_list_none)\n",
    "except ValueError as err:\n",
    "    print(err)"
   ]
  },
  {
   "cell_type": "code",
   "execution_count": 53,
   "metadata": {},
   "outputs": [
    {
     "name": "stdout",
     "output_type": "stream",
     "text": [
      "\n",
      "            Your list must have 10 elements and not contain None.\n",
      "            Length of your list length was 2910. None in list: False\n",
      "                         \n"
     ]
    }
   ],
   "source": [
    "try:\n",
    "    quality_check(example_list_large)\n",
    "except ValueError as err:\n",
    "    print(err)"
   ]
  },
  {
   "cell_type": "code",
   "execution_count": 54,
   "metadata": {},
   "outputs": [
    {
     "name": "stdout",
     "output_type": "stream",
     "text": [
      "Your list contains no Nones and have length 10\n"
     ]
    }
   ],
   "source": [
    "quality_check(example_list)"
   ]
  }
 ],
 "metadata": {
  "kernelspec": {
   "display_name": ".venv",
   "language": "python",
   "name": "python3"
  },
  "language_info": {
   "codemirror_mode": {
    "name": "ipython",
    "version": 3
   },
   "file_extension": ".py",
   "mimetype": "text/x-python",
   "name": "python",
   "nbconvert_exporter": "python",
   "pygments_lexer": "ipython3",
   "version": "3.11.8"
  }
 },
 "nbformat": 4,
 "nbformat_minor": 2
}
