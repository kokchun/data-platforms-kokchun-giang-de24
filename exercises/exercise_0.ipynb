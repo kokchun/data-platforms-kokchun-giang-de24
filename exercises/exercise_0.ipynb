{
 "cells": [
  {
   "cell_type": "markdown",
   "metadata": {},
   "source": [
    "# Solving exercises"
   ]
  },
  {
   "cell_type": "markdown",
   "metadata": {},
   "source": [
    "## 0. user input for ETL parameters"
   ]
  },
  {
   "cell_type": "code",
   "execution_count": 1,
   "metadata": {},
   "outputs": [
    {
     "name": "stdout",
     "output_type": "stream",
     "text": [
      "source: /Users/aigineer/Documents/github/data-platforms-kokchun-giang-de24/exercises/input_data.csv\n",
      "destination_path: /Users/aigineer/Documents/github/data-platforms-kokchun-giang-de24/exercises/output_data.csv\n"
     ]
    }
   ],
   "source": [
    "source_path = input(\"Enter the source path\")\n",
    "destination_path = input(\"Enter your destination path\")\n",
    "\n",
    "# /Users/aigineer/Documents/github/data-platforms-kokchun-giang-de24/exercises/input_data.csv\n",
    "# /Users/aigineer/Documents/github/data-platforms-kokchun-giang-de24/exercises/output_data.csv\n",
    "\n",
    "print(f\"source: {source_path}\")\n",
    "print(f\"destination_path: {destination_path}\")\n"
   ]
  }
 ],
 "metadata": {
  "kernelspec": {
   "display_name": ".venv",
   "language": "python",
   "name": "python3"
  },
  "language_info": {
   "codemirror_mode": {
    "name": "ipython",
    "version": 3
   },
   "file_extension": ".py",
   "mimetype": "text/x-python",
   "name": "python",
   "nbconvert_exporter": "python",
   "pygments_lexer": "ipython3",
   "version": "3.11.8"
  }
 },
 "nbformat": 4,
 "nbformat_minor": 2
}
